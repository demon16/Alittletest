{
 "cells": [
  {
   "cell_type": "code",
   "execution_count": null,
   "metadata": {},
   "outputs": [],
   "source": [
    "import requests\n",
    "s = requests.Session()\n",
    "base_url = 'http://0.0.0.0:5000/api'\n",
    "s.headers['content-type'] = 'application/json'"
   ]
  },
  {
   "cell_type": "code",
   "execution_count": null,
   "metadata": {},
   "outputs": [],
   "source": [
    "## auth\n",
    "# login\n",
    "data = '''{\"username\": \"join\", \"password\": \"123\"}'''\n",
    "login_url = base_url + '/login'\n",
    "r = s.post(login_url, data=data, headers=headers)\n",
    "print(r.json())\n",
    "s.headers['token'] = r.json().get('token')\n",
    "\n",
    "# # logout\n",
    "# logout_url = base_url + '/logout'\n",
    "# r = s.get(logout_url)\n",
    "# print(r.json())"
   ]
  },
  {
   "cell_type": "code",
   "execution_count": null,
   "metadata": {},
   "outputs": [],
   "source": [
    "## user\n",
    "# add\n",
    "# user_url = base_url + '/user/add'\n",
    "# data = '''{\"username\": \"join\", \"password\": \"123\", \"vcode\": \"123\",\n",
    "#             \"mobile\": \"1525276666\"}'''\n",
    "# r = s.post(user_url, data=data)\n",
    "# print(r.json())\n",
    "\n",
    "# del\n",
    "# user_url = base_url + '/user/delete'\n",
    "# data = '''{\"userId\": \"69ffc17e34bf11e88aa0902b3494b6b1\"}'''\n",
    "# r = s.post(user_url, data=data)\n",
    "# print(r.json())\n",
    "\n",
    "# modify\n",
    "# user_url = base_url + '/user/modify'\n",
    "# data = '''{\"sex\": \"female\", \"userId\": \"06ed3b4034c711e88aa0902b3494b6b1\", \"aa\": 234}'''\n",
    "# r = s.post(user_url, data=data)\n",
    "# print(r.json())\n",
    "\n",
    "# getInfo\n",
    "# user_url = base_url + '/user/getInfo'\n",
    "# data = '''{\"sex\": \"female\", \"userId\": \"06ed3b4034c711e88aa0902b3494b6b1\", \"aa\": 234}'''\n",
    "# r = s.post(user_url, data=data)\n",
    "# print(r.json())\n",
    "\n",
    "# addToBlacklist\n",
    "# user_url = base_url + '/user/setBlacklist'\n",
    "# data = '''{\"reason\": \"have fun\", \"userId\": \"a8b2a5bc34ce11e88aa0902b3494b6b1\"}'''\n",
    "# r = s.post(user_url, data=data)\n",
    "# print(r.json())\n",
    "\n",
    "# release\n",
    "# user_url = base_url + '/user/release'\n",
    "# data = '''{\"reason\": \"get out\", \"userId\": \"a8b2a5bc34ce11e88aa0902b3494b6b1\"}'''\n",
    "# r = s.post(user_url, data=data)\n",
    "# print(r.json())\n",
    "\n",
    "# getlist\n",
    "# user_url = base_url + '/user/getList'\n",
    "# data = '''{\"pageIndex\": 1, \"pageSize\": 1}'''\n",
    "# r = s.post(user_url, data=data)\n",
    "# print(r.json())\n"
   ]
  },
  {
   "cell_type": "code",
   "execution_count": null,
   "metadata": {},
   "outputs": [],
   "source": [
    "# bike\n",
    "# add\n",
    "# bike_url = base_url + '/bicycle/add'\n",
    "# data = '''{\"btype\": \"1\"}'''\n",
    "# r = s.post(bike_url, data=data)\n",
    "# print(r.json())\n",
    "\n",
    "# delete\n",
    "# bike_url = base_url + '/bicycle/delete'\n",
    "# data = '''{\"bicycleId\": \"45723a2034f711e88aa0902b3494b6b1\"}'''\n",
    "# r = s.post(bike_url, data=data)\n",
    "# print(r.json())\n",
    "\n",
    "# modify\n",
    "# bike_url = base_url + '/bicycle/modify'\n",
    "# data = '''{\"bicycleId\": \"64d3733034f611e88aa0902b3494b6b1\", \"status\": 2}'''\n",
    "# r = s.post(bike_url, data=data)\n",
    "# print(r.json())\n",
    "\n",
    "# getInfo\n",
    "# user_url = base_url + '/bicycle/getInfo'\n",
    "# data = '''{\"bicycleId\": \"64d3733034f611e88aa0902b3494b6b1\"}'''\n",
    "# r = s.post(user_url, data=data)\n",
    "# print(r.json())\n",
    "\n",
    "# getlist\n",
    "# user_url = base_url + '/bicycle/getList'\n",
    "# data = '''{\"pageIndex\": 1, \"pageSize\": 1}'''\n",
    "# r = s.post(user_url, data=data)\n",
    "# print(r.json())\n"
   ]
  }
 ],
 "metadata": {
  "kernelspec": {
   "display_name": "Python 3",
   "language": "python",
   "name": "python3"
  },
  "language_info": {
   "codemirror_mode": {
    "name": "ipython",
    "version": 3
   },
   "file_extension": ".py",
   "mimetype": "text/x-python",
   "name": "python",
   "nbconvert_exporter": "python",
   "pygments_lexer": "ipython3",
   "version": "3.6.3"
  }
 },
 "nbformat": 4,
 "nbformat_minor": 2
}
